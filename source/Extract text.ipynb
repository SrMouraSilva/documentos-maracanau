{
 "cells": [
  {
   "cell_type": "code",
   "execution_count": 1,
   "metadata": {},
   "outputs": [],
   "source": [
    "import textract\n",
    "\n",
    "from os import listdir\n",
    "from os.path import isfile, join\n",
    "\n",
    "import pandas as pd\n",
    "\n",
    "import pdf2image\n",
    "import tempfile\n",
    "import pytesseract\n",
    "\n",
    "path_files = '../documentos-originais'\n",
    "path_processed = '../dados-processados'\n",
    "path_temp = '../temporario'"
   ]
  },
  {
   "cell_type": "markdown",
   "metadata": {},
   "source": [
    "## Part 1 - Extract text from pdfs and imgs without problems"
   ]
  },
  {
   "cell_type": "code",
   "execution_count": 3,
   "metadata": {},
   "outputs": [],
   "source": [
    "dataframe = pd.DataFrame(columns=['file', 'text'])\n",
    "\n",
    "files = [f for f in listdir(path_files) if isfile(join(path_files, f))]\n",
    "\n",
    "error_files = []\n",
    "ignore_files = []\n",
    "\n",
    "\n",
    "for file in files:\n",
    "    try:\n",
    "        text = textract.process(f'{path_files}/{file}', language='por')\n",
    "    except:\n",
    "        error_files.append(file)\n",
    "        continue\n",
    "\n",
    "    if 'PDF' in file.upper() and len(text) <= 10:\n",
    "        ignore_files.append(file)\n",
    "        continue\n",
    "\n",
    "    dataframe = dataframe.append(pd.DataFrame({'file': [file], 'text': [text.decode('UTF-8')]}))"
   ]
  },
  {
   "cell_type": "code",
   "execution_count": 4,
   "metadata": {},
   "outputs": [],
   "source": [
    "dataframe.to_csv(f'{path_processed}/images-and-pdf-with-text.csv')\n",
    "\n",
    "pd.DataFrame(ignore_files, columns=['files']).to_csv(f'{path_processed}/ignored-files.csv')\n",
    "pd.DataFrame(error_files, columns=['files']).to_csv(f'{path_processed}/error-files.csv')"
   ]
  },
  {
   "cell_type": "markdown",
   "metadata": {},
   "source": [
    "## Part 2 - Extract text from pdfs without problem\n",
    "\n",
    "- PDFs with image\n",
    "- PDFs that textract cant extract text"
   ]
  },
  {
   "cell_type": "code",
   "execution_count": 12,
   "metadata": {},
   "outputs": [],
   "source": [
    "# dataframe2 = pd.DataFrame(columns=['file', 'text'])\n",
    "\n",
    "# ignored_files_dataframe = pd.read_csv(f'{path_processed}/ignored-files.csv', index_col=0)\n",
    "\n",
    "# for i, file in ignored_files_dataframe.iterrows():\n",
    "#     text = ''\n",
    "\n",
    "#     with tempfile.TemporaryDirectory(dir='../temporario') as temp:\n",
    "#         images = pdf2image.convert_from_path(f'{path_files}/{file[0]}', output_folder=temp, paths_only=True, fmt='png')\n",
    "\n",
    "#         for image in images:\n",
    "#             text += textract.process(image, language='por').decode('UTF-8') + '\\n'\n",
    "\n",
    "#     dataframe2 = dataframe2.append(pd.DataFrame({'file': [file], 'text': [text]}))\n",
    "\n",
    "# dataframe2.head()"
   ]
  },
  {
   "cell_type": "code",
   "execution_count": 2,
   "metadata": {},
   "outputs": [],
   "source": [
    "import multiprocessing\n",
    "\n",
    "ignored_files_dataframe = pd.read_csv(f'{path_processed}/ignored-files.csv', index_col=0)\n",
    "\n",
    "\n",
    "def process_file(file):\n",
    "    text = ''\n",
    "\n",
    "    with tempfile.TemporaryDirectory(dir=path_temp) as temp:\n",
    "        images = pdf2image.convert_from_path(f'{path_files}/{file}', output_folder=temp, paths_only=True, fmt='png')\n",
    "\n",
    "        for image in images:\n",
    "            text += textract.process(image, language='por').decode('UTF-8') + '\\n'\n",
    "\n",
    "    dataframe = pd.DataFrame(columns=['file', 'text'])\n",
    "    dataframe = dataframe.append(pd.DataFrame({'file': [file], 'text': [text]}))\n",
    "    dataframe.to_csv(f'{path_temp}/{file}.csv')\n",
    "\n",
    "cpus = 3\n",
    "\n",
    "files = list(ignored_files_dataframe.files.values)\n",
    "\n",
    "pool = multiprocessing.Pool(processes=cpus)\n",
    "result = pool.map(process_file, files)"
   ]
  },
  {
   "cell_type": "code",
   "execution_count": 13,
   "metadata": {},
   "outputs": [],
   "source": [
    "files = [f for f in listdir(path_temp) if isfile(join(path_temp, f))]\n",
    "\n",
    "dataframe_files = []\n",
    "for file in files:\n",
    "    if '.csv' in file:\n",
    "        dataframe_files.append(pd.read_csv(f'{path_temp}/{file}', index_col=0))\n",
    "\n",
    "pd.concat(dataframe_files).to_csv(f'{path_processed}/pdf-without.csv')"
   ]
  },
  {
   "cell_type": "code",
   "execution_count": 15,
   "metadata": {},
   "outputs": [],
   "source": [
    "data1 = pd.read_csv(f'{path_processed}/images-and-pdf-with-text.csv', index_col=0)\n",
    "data2 = pd.read_csv(f'{path_processed}/pdf-without.csv', index_col=0)\n",
    "\n",
    "pd.concat([data1, data2]).to_csv(f'{path_processed}/all-data.csv')"
   ]
  }
 ],
 "metadata": {
  "kernelspec": {
   "display_name": "Python 3",
   "language": "python",
   "name": "python3"
  },
  "language_info": {
   "codemirror_mode": {
    "name": "ipython",
    "version": 3
   },
   "file_extension": ".py",
   "mimetype": "text/x-python",
   "name": "python",
   "nbconvert_exporter": "python",
   "pygments_lexer": "ipython3",
   "version": "3.7.3"
  }
 },
 "nbformat": 4,
 "nbformat_minor": 4
}
